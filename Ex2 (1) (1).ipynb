{
 "cells": [
  {
   "cell_type": "markdown",
   "metadata": {},
   "source": [
    "# 2. Alphabetical Sort"
   ]
  },
  {
   "cell_type": "markdown",
   "metadata": {},
   "source": [
    "In this exercise we wil focus on sorting characters and strings. \n",
    "### Part 1:\n",
    "For the first part we were asked to implement the Counting Sort algorithm and this is how we did it:"
   ]
  },
  {
   "cell_type": "code",
   "execution_count": 1,
   "metadata": {
    "scrolled": true
   },
   "outputs": [],
   "source": [
    "def counting_sort(l):\n",
    "\n",
    "    range_el = max(l) + 1\n",
    "    occur = [0] * range_el\n",
    "    final = [0] * (len(l))\n",
    "\n",
    "    for i in range(len(l)):\n",
    "        occur[l[i]] += 1\n",
    "\n",
    "    for i in range(1, len(occur)):\n",
    "        occur[i] = occur[i - 1] + occur[i]\n",
    "\n",
    "    for e in l:\n",
    "        final[occur[e]-1] = e\n",
    "        occur[e] -= 1\n",
    "\n",
    "    return final"
   ]
  },
  {
   "cell_type": "markdown",
   "metadata": {},
   "source": [
    "### N.B.\n",
    "* range_el is the range of the elements we are trying to sort, basically it corresponds to the biggest value we have int the list that we need to sort. \n",
    "* in the first loop we are counting the occurrences of every element\n",
    "* in the second loop we are summing each element of the occur vector with his previous one\n",
    "* in the third loop we are actually creating the ordered list (final) based on the info in the occur list\n",
    "\n",
    "We used [this video][1] as reference to understand how the counting sort works.\n",
    "\n",
    "\n",
    "[1]: https://www.youtube.com/watch?v=7zuGmKfUt7s"
   ]
  },
  {
   "cell_type": "markdown",
   "metadata": {},
   "source": [
    "### Part 2:\n",
    "Here we wrote an algorithm that uses Counting Sort to sort the letter of the alphabet"
   ]
  },
  {
   "cell_type": "code",
   "execution_count": 4,
   "metadata": {},
   "outputs": [],
   "source": [
    "def sort_char(char_list):\n",
    "\n",
    "    to_sort_int = [(ord(x) - 97) for x in char_list]  # turning the characters into int from 0 to 25\n",
    "    result = counting_sort(to_sort_int)               # running the counting sort on them \n",
    "    result = [chr(x + 97) for x in result]            # turning the int back into char\n",
    "    return result"
   ]
  },
  {
   "cell_type": "markdown",
   "metadata": {},
   "source": [
    "Let's see how it works:"
   ]
  },
  {
   "cell_type": "code",
   "execution_count": 5,
   "metadata": {},
   "outputs": [
    {
     "name": "stdout",
     "output_type": "stream",
     "text": [
      "['a', 'b', 'c', 'd', 'e', 'f', 'f', 'g', 'h', 'i', 'j', 'k', 'l', 'm', 'n', 'o', 'p', 'q', 'r', 's', 't', 'u', 'v', 'w', 'x', 'y', 'z']\n"
     ]
    }
   ],
   "source": [
    "to_sort = ['p', 'a', 'n', 'd', 'r', 'e', 'q', 'w', 't', 'y', 'u', 'i', 'o', 's', 'f', 'g', 'h', 'j', 'k', 'l', 'z', 'x',\n",
    "           'c', 'v', 'b', 'm', 'f']\n",
    "\n",
    "print(sort_char(to_sort))"
   ]
  },
  {
   "cell_type": "markdown",
   "metadata": {},
   "source": [
    "#### Time Complexity:\n",
    "Counting sort is great for sorting positive numbers in a given and realtivly small range because it takes linear time to compute. In fact we don't have nested for loops. Every loop is either looping over len(input) or the range (k) of possible values of the input. In fact the complexity is O(n+k) where n is the length of the input list and k is the range the possible values of the elements in the list.\n",
    "In our algorithm that works on characters we didn't add complexity because we are only turning into int every char (a loop over n), calling the counting sort and then turning the int back into char (loop over n). So the time complexity remains linear."
   ]
  },
  {
   "cell_type": "markdown",
   "metadata": {},
   "source": [
    "### Part 3:\n",
    "In this part we built an algorithm based on counting sort to sort strings alphabetically. We decided to convert the strings into numbers (turning any char into a two digit number) and sort them basing our algorithm on the radix sort, which recursively calls counting sort to sort numbers first by the most significant digit, then next one and so on until the least significant one. In this algorithm we used some **auxiliary functions:**"
   ]
  },
  {
   "cell_type": "code",
   "execution_count": 6,
   "metadata": {},
   "outputs": [],
   "source": [
    "# This function is used to prepar the input for the main function\n",
    "\n",
    "def prep_input(list_strings):\n",
    "\n",
    "    m = len(max(list_strings, key=len))      # max length of a string in the list\n",
    "    out = []\n",
    "    list_strings = [x.lower() for x in list_strings]  # converting to lowercase\n",
    "\n",
    "    for word in list_strings:                # for every word we prepare the new numerical string\n",
    "        s = \"\"\n",
    "        for letter in word: \n",
    "            if letter == \" \":                # if the word has spaces in it we represent them with the code '01'\n",
    "                s += '01'  \n",
    "            else:\n",
    "                s += str(ord(letter)-86)     # al the other letters are converted into a number (from 11 to 36)\n",
    "        if len(word) < m:\n",
    "            s = s.ljust((len(word) + (m-len(word)))*2, '0')  # if a string is shorter than m we pad it with \n",
    "                                                             # zeros at the end to have them of the same length\n",
    "        out.append(s)\n",
    "\n",
    "    out = [int(x) for x in out]              # converting all the strings into int\n",
    "\n",
    "    return out\n",
    "\n",
    "\n",
    "# This functions is used to convert the numbers back into words after we sorted them\n",
    "\n",
    "def prettify(ordered_list_int):\n",
    "    result = []\n",
    "    for num in ordered_list_int:\n",
    "        num = str(num)\n",
    "        stringa = \"\"                                 # for every number we create a string\n",
    "        for i in range(1,len(num), 2):               # we have a character every two digits\n",
    "            if (num[i-1])+str(num[i]) == \"00\":       # 00 gets ignored beacuse it was just padding\n",
    "                continue\n",
    "            elif (num[i-1])+str(num[i]) == \"01\":     # 01 mean a space inside the string\n",
    "                stringa += \" \"\n",
    "            else:\n",
    "                stringa += chr(int(str(num[i-1])+str(num[i]))+86)  # all the other numbers are turned\n",
    "                                                                   # back into chars\n",
    "        result.append(stringa)\n",
    "\n",
    "    return result"
   ]
  },
  {
   "cell_type": "markdown",
   "metadata": {},
   "source": [
    "* Then we have the **main functions** of the algorithm:"
   ]
  },
  {
   "cell_type": "code",
   "execution_count": 7,
   "metadata": {},
   "outputs": [],
   "source": [
    "# This is the same structure of the counting sort above, but with a little change that\n",
    "# lets us consider only the current decimal position (expressed by digit) to sort the numbers.\n",
    "# Moreover this time we are modifying the list in place\n",
    "\n",
    "def counting_sort_snd(l, digit):\n",
    "\n",
    "    occur = [0] * 10\n",
    "    final = [0] * (len(l)+1)\n",
    "\n",
    "    for i in range(len(l)):\n",
    "        occur[(l[i] // digit) % 10] += 1\n",
    "\n",
    "    for i in range(1, len(occur)):\n",
    "        occur[i] = occur[i - 1] + occur[i]\n",
    "\n",
    "    for e in reversed(l):\n",
    "        final[occur[(e // digit) % 10] - 1] = e\n",
    "        occur[(e // digit) % 10] -= 1\n",
    "\n",
    "    for i in range(len(l)):\n",
    "        l[i] = final[i]"
   ]
  },
  {
   "cell_type": "code",
   "execution_count": 12,
   "metadata": {},
   "outputs": [],
   "source": [
    "# This is our version of the radix sort algorithm; it finds out the biggest number in the list to order\n",
    "# and then calls the counting sort on every decimal position/digit incrementig it every time.\n",
    "\n",
    "def radix_sort(l):\n",
    "\n",
    "    range_el = max(l)\n",
    "    digit = 1\n",
    "\n",
    "    while range_el / digit > 0:\n",
    "        counting_sort_snd(l, digit)\n",
    "        digit *= 10"
   ]
  },
  {
   "cell_type": "markdown",
   "metadata": {},
   "source": [
    "* and this is the final product:"
   ]
  },
  {
   "cell_type": "code",
   "execution_count": 13,
   "metadata": {},
   "outputs": [],
   "source": [
    "def my_algorithm(to_sort):\n",
    "\n",
    "    print(\"Input: \", to_sort)            # printing input\n",
    "    prepped_list = prep_input(to_sort)   # preparing input\n",
    "\n",
    "    radix_sort(prepped_list)             # ordering list\n",
    "    result = prettify(prepped_list)      # make the result readable\n",
    "\n",
    "    return result"
   ]
  },
  {
   "cell_type": "markdown",
   "metadata": {},
   "source": [
    "Let's see it at work:"
   ]
  },
  {
   "cell_type": "code",
   "execution_count": 14,
   "metadata": {},
   "outputs": [
    {
     "name": "stdout",
     "output_type": "stream",
     "text": [
      "Input:  ['good', 'bad', 'building', 'oak hill', 'zara', 'kiss', 'kissing', 'oak', 'crazy', 'wow']\n",
      "Result:  ['bad', 'building', 'crazy', 'good', 'kiss', 'kissing', 'oak', 'oak hill', 'wow', 'zara']\n"
     ]
    }
   ],
   "source": [
    "input_test = [\"good\", \"bad\", \"building\", \"oak hill\", \"zara\", \"kiss\", \"kissing\", \"oak\", \"crazy\", \"wow\"]\n",
    "\n",
    "print(\"Result: \", my_algorithm(input_test))"
   ]
  },
  {
   "cell_type": "markdown",
   "metadata": {},
   "source": [
    "#### Time complexity:\n",
    "The auxiliary funtions both take almost a quadratic time to be executed beacuse they loop on every word of the list and then on every letter of the word (or every two letters). More precisely they take O(m* n) where m is the number of words and n the maximum lenght of the words. The counting sort is the same so it's still linear. The radix_sort is calling the counting sort for every digit of the number so the total amount of the radix sort is O(m* j) where m is still the number of elements to sort and j is the medium number of digits they have. "
   ]
  },
  {
   "cell_type": "code",
   "execution_count": null,
   "metadata": {},
   "outputs": [],
   "source": []
  }
 ],
 "metadata": {
  "kernelspec": {
   "display_name": "Python 3",
   "language": "python",
   "name": "python3"
  },
  "language_info": {
   "codemirror_mode": {
    "name": "ipython",
    "version": 3
   },
   "file_extension": ".py",
   "mimetype": "text/x-python",
   "name": "python",
   "nbconvert_exporter": "python",
   "pygments_lexer": "ipython3",
   "version": "3.6.7"
  }
 },
 "nbformat": 4,
 "nbformat_minor": 2
}
